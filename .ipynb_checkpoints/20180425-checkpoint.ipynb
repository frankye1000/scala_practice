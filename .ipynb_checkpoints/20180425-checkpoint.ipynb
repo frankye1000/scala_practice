{
 "cells": [
  {
   "cell_type": "code",
   "execution_count": 2,
   "metadata": {},
   "outputs": [
    {
     "data": {
      "text/plain": [
       "\u001b[32mimport \u001b[39m\u001b[36mjava.io._\n",
       "\u001b[39m\n",
       "\u001b[32mimport \u001b[39m\u001b[36morg.jsoup.Jsoup\n",
       "\u001b[39m\n",
       "\u001b[32mimport \u001b[39m\u001b[36mjava.time._\n",
       "\u001b[39m\n",
       "\u001b[32mimport \u001b[39m\u001b[36mscala.collection.JavaConverters._\u001b[39m"
      ]
     },
     "execution_count": 2,
     "metadata": {},
     "output_type": "execute_result"
    }
   ],
   "source": [
    "import java.io._\n",
    "import org.jsoup.Jsoup\n",
    "import java.time._\n",
    "import scala.collection.JavaConverters._"
   ]
  },
  {
   "cell_type": "code",
   "execution_count": 27,
   "metadata": {
    "scrolled": true
   },
   "outputs": [
    {
     "name": "stdout",
     "output_type": "stream",
     "text": [
      "https://www.mobile01.com/topiclist.php?f=588&p=1\n",
      "finish1\n",
      "https://www.mobile01.com/topiclist.php?f=588&p=2\n",
      "finish2\n",
      "https://www.mobile01.com/topiclist.php?f=588&p=3\n",
      "finish3\n"
     ]
    },
    {
     "data": {
      "text/plain": [
       "\u001b[36mtitles_list\u001b[39m: \u001b[32mList\u001b[39m[\u001b[32mString\u001b[39m] = \u001b[33mList\u001b[39m(\n",
       "  \u001b[32m\"\"\"\n",
       "ZenFone5之二出任務  \n",
       "\n",
       "  \"\"\"\u001b[39m,\n",
       "  \u001b[32m\"\"\"\n",
       "若我先有送修ZF3 的經驗，就不會再買ZF5。  \n",
       "\n",
       "  \"\"\"\u001b[39m,\n",
       "  \u001b[32m\"\"\"\n",
       "ASUS ZenFone 4 (6GB/64GB) VS ASUS ZenFone 5...  \n",
       "\n",
       "\u001b[33m...\u001b[39m\n",
       "\u001b[36mauthur_date_list\u001b[39m: \u001b[32mList\u001b[39m[\u001b[32mString\u001b[39m] = \u001b[33mList\u001b[39m(\n",
       "  \u001b[32m\"\"\"\n",
       "2018-04-12 20:20  \n",
       "\n",
       "  \"\"\"\u001b[39m,\n",
       "  \u001b[32m\"\"\"\n",
       "doggykoon  \n",
       "\n",
       "  \"\"\"\u001b[39m,\n",
       "  \u001b[32m\"\"\"\n",
       "2018-04-12 18:33  \n",
       "\n",
       "\u001b[33m...\u001b[39m"
      ]
     },
     "execution_count": 27,
     "metadata": {},
     "output_type": "execute_result"
    }
   ],
   "source": [
    "var titles_list:List[String] = List()\n",
    "var authur_date_list:List[String] = List()\n",
    "\n",
    "for(i <- 1 to 3){\n",
    "    val mainPageUrl = s\"https://www.mobile01.com/topiclist.php?f=588&p=$i\"\n",
    "    println(mainPageUrl)\n",
    "    val doc = Jsoup.connect(mainPageUrl).timeout(10*1000).get() \n",
    "    val titles = doc.select(\"a.topic_gen\").asScala.toList //title\n",
    "    val authur_date = doc.select(\"td.authur > a > p\").asScala.toList \n",
    "    \n",
    "    for(x <- titles){\n",
    "        titles_list = titles_list:+(x.text+\"\\n\")\n",
    "    }\n",
    "    \n",
    "    for(a <- authur_date){\n",
    "        authur_date_list = authur_date_list:+(a.text+\"\\n\")\n",
    "    }\n",
    "    \n",
    "    println(s\"finish$i\")\n",
    "    Thread.sleep(1000) //slowing to crawl\n",
    "}"
   ]
  },
  {
   "cell_type": "code",
   "execution_count": 35,
   "metadata": {
    "scrolled": true
   },
   "outputs": [
    {
     "data": {
      "text/plain": [
       "\u001b[36mdate_list\u001b[39m: \u001b[32mList\u001b[39m[\u001b[32mString\u001b[39m] = \u001b[33mList\u001b[39m(\n",
       "  \u001b[32m\"\"\"\n",
       "2018-04-12 20:20  \n",
       "\n",
       "  \"\"\"\u001b[39m,\n",
       "  \u001b[32m\"\"\"\n",
       "2018-04-12 18:33  \n",
       "\n",
       "  \"\"\"\u001b[39m,\n",
       "  \u001b[32m\"\"\"\n",
       "2018-04-25 20:31  \n",
       "\n",
       "\u001b[33m...\u001b[39m\n",
       "\u001b[36mauthur_list\u001b[39m: \u001b[32mList\u001b[39m[\u001b[32mString\u001b[39m] = \u001b[33mList\u001b[39m(\n",
       "  \u001b[32m\"\"\"\n",
       "doggykoon  \n",
       "\n",
       "  \"\"\"\u001b[39m,\n",
       "  \u001b[32m\"\"\"\n",
       "Martin  \n",
       "\n",
       "  \"\"\"\u001b[39m,\n",
       "  \u001b[32m\"\"\"\n",
       "cychung1981  \n",
       "\n",
       "\u001b[33m...\u001b[39m\n",
       "\u001b[36mcount\u001b[39m: \u001b[32mInt\u001b[39m = \u001b[32m0\u001b[39m"
      ]
     },
     "execution_count": 35,
     "metadata": {},
     "output_type": "execute_result"
    }
   ],
   "source": [
    "var date_list:List[String] = List()\n",
    "var authur_list:List[String] = List()\n",
    "var count = 0\n",
    "for(i<- 0 to authur_date_list.size-1){\n",
    "    if(i%2==0){\n",
    "        date_list = date_list:+authur_date_list(i)\n",
    "    }\n",
    "    else{\n",
    "        authur_list = authur_list:+authur_date_list(i)\n",
    "    }    \n",
    "}"
   ]
  },
  {
   "cell_type": "code",
   "execution_count": null,
   "metadata": {},
   "outputs": [],
   "source": [
    "var file = \"mobile01_ASUS.txt\"\n",
    "var writer = new BufferedWriter(new FileWriter(file))\n",
    "titles_list.foreach(writer.write)\n",
    "writer.close()"
   ]
  }
 ],
 "metadata": {
  "kernelspec": {
   "display_name": "Scala (develop)",
   "language": "scala",
   "name": "scala-develop"
  },
  "language_info": {
   "codemirror_mode": "text/x-scala",
   "file_extension": ".scala",
   "mimetype": "text/x-scala",
   "name": "scala211",
   "nbconvert_exporter": "script",
   "pygments_lexer": "scala",
   "version": "2.11.11"
  }
 },
 "nbformat": 4,
 "nbformat_minor": 2
}
