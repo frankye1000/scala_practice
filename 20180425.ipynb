{
 "cells": [
  {
   "cell_type": "code",
   "execution_count": 1,
   "metadata": {},
   "outputs": [
    {
     "data": {
      "text/plain": [
       "\u001b[32mimport \u001b[39m\u001b[36mjava.io._\n",
       "\u001b[39m\n",
       "\u001b[32mimport \u001b[39m\u001b[36morg.jsoup.Jsoup\n",
       "\u001b[39m\n",
       "\u001b[32mimport \u001b[39m\u001b[36mjava.time._\n",
       "\u001b[39m\n",
       "\u001b[32mimport \u001b[39m\u001b[36mscala.collection.JavaConverters._\u001b[39m"
      ]
     },
     "execution_count": 1,
     "metadata": {},
     "output_type": "execute_result"
    }
   ],
   "source": [
    "import java.io._\n",
    "import org.jsoup.Jsoup\n",
    "import java.time._\n",
    "import scala.collection.JavaConverters._"
   ]
  },
  {
   "cell_type": "code",
   "execution_count": 22,
   "metadata": {
    "scrolled": true
   },
   "outputs": [
    {
     "name": "stdout",
     "output_type": "stream",
     "text": [
      "https://www.mobile01.com/topiclist.php?f=588&p=1\n",
      "finish1\n",
      "https://www.mobile01.com/topiclist.php?f=588&p=2\n",
      "finish2\n",
      "https://www.mobile01.com/topiclist.php?f=588&p=3\n",
      "finish3\n",
      "https://www.mobile01.com/topiclist.php?f=588&p=4\n",
      "finish4\n",
      "https://www.mobile01.com/topiclist.php?f=588&p=5\n",
      "finish5\n",
      "https://www.mobile01.com/topiclist.php?f=588&p=6\n",
      "finish6\n",
      "https://www.mobile01.com/topiclist.php?f=588&p=7\n",
      "finish7\n",
      "https://www.mobile01.com/topiclist.php?f=588&p=8\n",
      "finish8\n",
      "https://www.mobile01.com/topiclist.php?f=588&p=9\n",
      "finish9\n",
      "https://www.mobile01.com/topiclist.php?f=588&p=10\n",
      "finish10\n"
     ]
    },
    {
     "data": {
      "text/plain": [
       "\u001b[36mtitles_list\u001b[39m: \u001b[32mList\u001b[39m[\u001b[32mString\u001b[39m] = \u001b[33mList\u001b[39m(\n",
       "  \u001b[32m\"\"\"\n",
       "[已解決]若我先有送修ZF3 的經驗，就不會再買ZF5。(華...  \n",
       "\n",
       "  \"\"\"\u001b[39m,\n",
       "  \u001b[32m\"\"\"\n",
       "買了兩隻的ZF5好用，想買不必理寫手黑黑  \n",
       "\n",
       "  \"\"\"\u001b[39m,\n",
       "  \u001b[32m\"\"\"\n",
       "有人跟我一樣有新買ZenFone5,但還是在用ZenFone3...  \n",
       "\n",
       "\u001b[33m...\u001b[39m\n",
       "\u001b[36mauthur_date_list\u001b[39m: \u001b[32mList\u001b[39m[\u001b[32mString\u001b[39m] = \u001b[33mList\u001b[39m(\n",
       "  \u001b[32m\"\"\"\n",
       "2018-04-12 20:20  \n",
       "\n",
       "  \"\"\"\u001b[39m,\n",
       "  \u001b[32m\"\"\"\n",
       "doggykoon  \n",
       "\n",
       "  \"\"\"\u001b[39m,\n",
       "  \u001b[32m\"\"\"\n",
       "2018-04-12 18:33  \n",
       "\n",
       "\u001b[33m...\u001b[39m"
      ]
     },
     "execution_count": 22,
     "metadata": {},
     "output_type": "execute_result"
    }
   ],
   "source": [
    "var titles_list:List[String] = List()\n",
    "var authur_date_list:List[String] = List()\n",
    "\n",
    "for(i <- 1 to 10){\n",
    "    val mainPageUrl = s\"https://www.mobile01.com/topiclist.php?f=588&p=$i\"\n",
    "    println(mainPageUrl)\n",
    "    val doc = Jsoup.connect(mainPageUrl).timeout(10*1000).get() \n",
    "    val titles = doc.select(\"a.topic_gen\").asScala.toList //title\n",
    "    val authur_date = doc.select(\"td.authur > a > p\").asScala.toList \n",
    "    \n",
    "    for(x <- titles){\n",
    "        titles_list = titles_list:+(x.text+\"\\n\")\n",
    "    }\n",
    "    \n",
    "    for(a <- authur_date){\n",
    "        authur_date_list = authur_date_list:+(a.text+\"\\n\")\n",
    "    }\n",
    "    \n",
    "    println(s\"finish$i\")\n",
    "    Thread.sleep(1000) //slowing to crawl\n",
    "}"
   ]
  },
  {
   "cell_type": "code",
   "execution_count": 23,
   "metadata": {
    "scrolled": true
   },
   "outputs": [
    {
     "data": {
      "text/plain": [
       "\u001b[36mdate_list\u001b[39m: \u001b[32mList\u001b[39m[\u001b[32mString\u001b[39m] = \u001b[33mList\u001b[39m(\n",
       "  \u001b[32m\"\"\"\n",
       "2018-04-12 20:20  \n",
       "\n",
       "  \"\"\"\u001b[39m,\n",
       "  \u001b[32m\"\"\"\n",
       "2018-04-12 18:33  \n",
       "\n",
       "  \"\"\"\u001b[39m,\n",
       "  \u001b[32m\"\"\"\n",
       "2018-04-25 14:42  \n",
       "\n",
       "\u001b[33m...\u001b[39m\n",
       "\u001b[36mauthur_list\u001b[39m: \u001b[32mList\u001b[39m[\u001b[32mString\u001b[39m] = \u001b[33mList\u001b[39m(\n",
       "  \u001b[32m\"\"\"\n",
       "doggykoon  \n",
       "\n",
       "  \"\"\"\u001b[39m,\n",
       "  \u001b[32m\"\"\"\n",
       "Martin  \n",
       "\n",
       "  \"\"\"\u001b[39m,\n",
       "  \u001b[32m\"\"\"\n",
       "william_wu4  \n",
       "\n",
       "\u001b[33m...\u001b[39m\n",
       "\u001b[36mcount\u001b[39m: \u001b[32mInt\u001b[39m = \u001b[32m0\u001b[39m"
      ]
     },
     "execution_count": 23,
     "metadata": {},
     "output_type": "execute_result"
    }
   ],
   "source": [
    "var date_list:List[String] = List()\n",
    "var authur_list:List[String] = List()\n",
    "var count = 0\n",
    "for(i<- 0 to authur_date_list.size-1){\n",
    "    if(i%2==0){\n",
    "        date_list = date_list:+authur_date_list(i)\n",
    "    }\n",
    "    else{\n",
    "        authur_list = authur_list:+authur_date_list(i)\n",
    "    }    \n",
    "}"
   ]
  },
  {
   "cell_type": "code",
   "execution_count": 24,
   "metadata": {},
   "outputs": [
    {
     "data": {
      "text/plain": [
       "\u001b[36mfile\u001b[39m: \u001b[32mString\u001b[39m = \u001b[32m\"mobile01_ASUS.txt\"\u001b[39m\n",
       "\u001b[36mwriter\u001b[39m: \u001b[32mBufferedWriter\u001b[39m = java.io.BufferedWriter@525e9d80\n",
       "\u001b[36ma\u001b[39m: \u001b[32mList\u001b[39m[((\u001b[32mString\u001b[39m, \u001b[32mString\u001b[39m), \u001b[32mString\u001b[39m)] = \u001b[33mList\u001b[39m(\n",
       "  (\n",
       "    (\n",
       "      \u001b[32m\"\"\"\n",
       "[已解決]若我先有送修ZF3 的經驗，就不會再買ZF5。(華...      \n",
       "\n",
       "      \"\"\"\u001b[39m,\n",
       "      \u001b[32m\"\"\"\n",
       "2018-04-12 20:20      \n",
       "\n",
       "      \"\"\"\u001b[39m\n",
       "    ),\n",
       "\u001b[33m...\u001b[39m\n",
       "defined \u001b[32mfunction\u001b[39m \u001b[36mf2\u001b[39m\n",
       "\u001b[36mb\u001b[39m: \u001b[32mList\u001b[39m[(\u001b[32mString\u001b[39m, \u001b[32mString\u001b[39m, \u001b[32mString\u001b[39m)] = \u001b[33mList\u001b[39m(\n",
       "  (\n",
       "    \u001b[32m\"\"\"\n",
       "[已解決]若我先有送修ZF3 的經驗，就不會再買ZF5。(華...    \n",
       "\n",
       "    \"\"\"\u001b[39m,\n",
       "    \u001b[32m\"\"\"\n",
       "2018-04-12 20:20    \n",
       "\n",
       "    \"\"\"\u001b[39m,\n",
       "    \u001b[32m\"\"\"\n",
       "doggykoon    \n",
       "\u001b[33m...\u001b[39m\n",
       "\u001b[36mc\u001b[39m: \u001b[32mList\u001b[39m[\u001b[32mString\u001b[39m] = \u001b[33mList\u001b[39m(\n",
       "  \u001b[32m\"\"\"\n",
       "[已解決]若我先有送修ZF3 的經驗，就不會再買ZF5。(華...  \n",
       "2018-04-12 20:20  \n",
       "doggykoon  \n",
       "\n",
       "  \"\"\"\u001b[39m,\n",
       "  \u001b[32m\"\"\"\n",
       "買了兩隻的ZF5好用，想買不必理寫手黑黑  \n",
       "2018-04-12 18:33  \n",
       "Martin  \n",
       "\n",
       "\u001b[33m...\u001b[39m"
      ]
     },
     "execution_count": 24,
     "metadata": {},
     "output_type": "execute_result"
    }
   ],
   "source": [
    "var file = \"mobile01_ASUS.txt\"\n",
    "var writer = new BufferedWriter(new FileWriter(file))\n",
    "val a = (titles_list zip date_list zip authur_list)\n",
    "\n",
    "def f2[A,B,C](t:((A,B),C)) = (t._1._1, t._1._2, t._2)\n",
    "val b = a map f2\n",
    "val c = b.map{tuple=>tuple.productIterator.mkString}\n",
    "c.foreach(writer.write)\n",
    "\n",
    "writer.close()"
   ]
  },
  {
   "cell_type": "code",
   "execution_count": null,
   "metadata": {},
   "outputs": [],
   "source": []
  }
 ],
 "metadata": {
  "kernelspec": {
   "display_name": "Scala (develop)",
   "language": "scala",
   "name": "scala-develop"
  },
  "language_info": {
   "codemirror_mode": "text/x-scala",
   "file_extension": ".scala",
   "mimetype": "text/x-scala",
   "name": "scala211",
   "nbconvert_exporter": "script",
   "pygments_lexer": "scala",
   "version": "2.11.11"
  }
 },
 "nbformat": 4,
 "nbformat_minor": 2
}
